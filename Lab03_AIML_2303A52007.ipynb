{
  "cells": [
    {
      "cell_type": "markdown",
      "metadata": {
        "id": "view-in-github",
        "colab_type": "text"
      },
      "source": [
        "<a href=\"https://colab.research.google.com/github/SuryaTeja-aiml/AIML_2303A52007/blob/main/Lab03_AIML_2303A52007.ipynb\" target=\"_parent\"><img src=\"https://colab.research.google.com/assets/colab-badge.svg\" alt=\"Open In Colab\"/></a>"
      ]
    },
    {
      "cell_type": "markdown",
      "id": "126d57d5",
      "metadata": {
        "id": "126d57d5"
      },
      "source": [
        "## Implement Alpha-Beta Search Tree using Game Strategy"
      ]
    },
    {
      "cell_type": "markdown",
      "id": "f0a894b4",
      "metadata": {
        "id": "f0a894b4"
      },
      "source": [
        "## Part-01: List of Tasks to Perform\n",
        "\n",
        "1. Install the Python Libraries for Game Strategy\n",
        "2. Implement a Game Class Constructor with - actions, is_terminal, result, utility\n",
        "3. Implement a Player Game using game class function"
      ]
    },
    {
      "cell_type": "code",
      "execution_count": 1,
      "id": "2858d274",
      "metadata": {
        "id": "2858d274"
      },
      "outputs": [],
      "source": [
        "from collections import namedtuple, Counter, defaultdict\n",
        "import random\n",
        "import math\n",
        "import functools\n",
        "cache = functools.lru_cache(10**6)"
      ]
    },
    {
      "cell_type": "code",
      "execution_count": 2,
      "id": "1af90cb7",
      "metadata": {
        "id": "1af90cb7"
      },
      "outputs": [],
      "source": [
        "class Game:\n",
        "\n",
        "    def actions(self, state):\n",
        "        raise NotImplementedError\n",
        "\n",
        "    def result(self, state, move):\n",
        "        raise NotImplementedError\n",
        "\n",
        "    def is_terminal(self, state):\n",
        "        return not self.actions(state)\n",
        "\n",
        "    def utility(self, state, player):\n",
        "        raise NotImplementedError"
      ]
    },
    {
      "cell_type": "code",
      "execution_count": 3,
      "id": "fc3e467e",
      "metadata": {
        "id": "fc3e467e"
      },
      "outputs": [],
      "source": [
        "def play_game(game, strategies: dict, verbose=False):\n",
        "    state = game.initial\n",
        "    while not game.is_terminal(state):\n",
        "        player = state.to_move\n",
        "        move = strategies[player](game, state)\n",
        "        state = game.result(state, move)\n",
        "        if verbose:\n",
        "            print('Player', player, 'move:', move)\n",
        "            print(state)\n",
        "    return state"
      ]
    },
    {
      "cell_type": "markdown",
      "id": "ee4a50ba",
      "metadata": {
        "id": "ee4a50ba"
      },
      "source": [
        "## Part-02: Implementation of Game Strategy Algorithm\n",
        "1. MiniMax Tree\n",
        "2. Alpha-Beta Search Algorithm"
      ]
    },
    {
      "cell_type": "code",
      "execution_count": 4,
      "id": "41bf6fe8",
      "metadata": {
        "id": "41bf6fe8"
      },
      "outputs": [],
      "source": [
        "def minimax_search(game, state):\n",
        "    player = state.to_move\n",
        "    def max_value(state):\n",
        "        if game.is_terminal(state):\n",
        "            return game.utility(state, player), None\n",
        "        v, move = -infinity, None\n",
        "        for a in game.actions(state):\n",
        "            v2, _ = min_value(game.result(state, a))\n",
        "            if v2 > v:\n",
        "                v, move = v2, a\n",
        "        return v, move\n",
        "\n",
        "    def min_value(state):\n",
        "        if game.is_terminal(state):\n",
        "            return game.utility(state, player), None\n",
        "        v, move = +infinity, None\n",
        "        for a in game.actions(state):\n",
        "            v2, _ = max_value(game.result(state, a))\n",
        "            if v2 < v:\n",
        "                v, move = v2, a\n",
        "        return v, move\n",
        "\n",
        "    return max_value(state)\n",
        "\n",
        "infinity = math.inf"
      ]
    },
    {
      "cell_type": "code",
      "execution_count": 5,
      "id": "1b54aa9b",
      "metadata": {
        "id": "1b54aa9b"
      },
      "outputs": [],
      "source": [
        "def alphabeta_search(game, state):\n",
        "\n",
        "    player = state.to_move\n",
        "\n",
        "    def max_value(state, alpha, beta):\n",
        "        if game.is_terminal(state):\n",
        "            return game.utility(state, player), None\n",
        "        v, move = -infinity, None\n",
        "        for a in game.actions(state):\n",
        "            v2, _ = min_value(game.result(state, a), alpha, beta)\n",
        "            if v2 > v:\n",
        "                v, move = v2, a\n",
        "                alpha = max(alpha, v)\n",
        "            if v >= beta:\n",
        "                return v, move\n",
        "        return v, move\n",
        "\n",
        "    def min_value(state, alpha, beta):\n",
        "        if game.is_terminal(state):\n",
        "            return game.utility(state, player), None\n",
        "        v, move = +infinity, None\n",
        "        for a in game.actions(state):\n",
        "            v2, _ = max_value(game.result(state, a), alpha, beta)\n",
        "            if v2 < v:\n",
        "                v, move = v2, a\n",
        "                beta = min(beta, v)\n",
        "            if v <= alpha:\n",
        "                return v, move\n",
        "        return v, move\n",
        "\n",
        "    return max_value(state, -infinity, +infinity)"
      ]
    },
    {
      "cell_type": "markdown",
      "source": [
        "##  Part 3 Implement the Game Strategy using TicTocToe"
      ],
      "metadata": {
        "id": "fYHPJCbC5eaw"
      },
      "id": "fYHPJCbC5eaw"
    },
    {
      "cell_type": "markdown",
      "source": [
        "1. Implement TicToCToe game using _ init _, actions, result, is_terminal, utility, display constructors"
      ],
      "metadata": {
        "id": "_tjvc8U45y1S"
      },
      "id": "_tjvc8U45y1S"
    },
    {
      "cell_type": "code",
      "source": [
        "class TicTacToe(Game):\n",
        "\n",
        "    def __init__(self, height=3, width=3, k=3):\n",
        "        self.k = k # k in a row\n",
        "        self.squares = {(x, y) for x in range(width) for y in range(height)}\n",
        "        self.initial = Board(height=height, width=width, to_move='X', utility=0)\n",
        "\n",
        "    def actions(self, board):\n",
        "        return self.squares - set(board)\n",
        "\n",
        "    def result(self, board, square):\n",
        "        player = board.to_move\n",
        "        board = board.new({square: player}, to_move=('O' if player == 'X' else 'X'))\n",
        "        win = k_in_row(board, player, square, self.k)\n",
        "        board.utility = (0 if not win else +1 if player == 'X' else -1)\n",
        "        return board\n",
        "\n",
        "    def utility(self, board, player):\n",
        "        return board.utility if player == 'X' else -board.utility\n",
        "\n",
        "    def is_terminal(self, board):\n",
        "        return board.utility != 0 or len(self.squares) == len(board)\n",
        "\n",
        "    def display(self, board): print(board)\n",
        "\n",
        "\n",
        "def k_in_row(board, player, square, k):\n",
        "    def in_row(x, y, dx, dy): return 0 if board[x, y] != player else 1 + in_row(x + dx, y + dy, dx, dy)\n",
        "    return any(in_row(*square, dx, dy) + in_row(*square, -dx, -dy)-1>=k\n",
        "               for (dx, dy) in ((0, 1), (1, 0), (1, 1), (1, -1)))\n"
      ],
      "metadata": {
        "id": "QPxi9owW8gFC"
      },
      "id": "QPxi9owW8gFC",
      "execution_count": 6,
      "outputs": []
    },
    {
      "cell_type": "markdown",
      "source": [
        " 2. Implement a Game Board using defaultdict using _ init _, new, _ missing _, _ hash _, _ repr _\n"
      ],
      "metadata": {
        "id": "lEAofJNjA3Cj"
      },
      "id": "lEAofJNjA3Cj"
    },
    {
      "cell_type": "code",
      "source": [
        "class Board(defaultdict):\n",
        "    empty = '.'\n",
        "    off = '#'\n",
        "\n",
        "    def __init__(self, width=8, height=8, to_move=None, **kwds):\n",
        "        self.__dict__.update(width=width, height=height, to_move=to_move, **kwds)\n",
        "\n",
        "    def new(self, changes: dict, **kwds) -> 'Board':\n",
        "        board = Board(width=self.width, height=self.height, **kwds)\n",
        "        board.update(self)\n",
        "        board.update(changes)\n",
        "        return board\n",
        "\n",
        "    def __missing__(self, loc):\n",
        "        x, y = loc\n",
        "        if 0 <= x < self.width and 0 <= y < self.height:\n",
        "            return self.empty\n",
        "        else:\n",
        "            return self.off\n",
        "\n",
        "    def __hash__(self):\n",
        "        return hash(tuple(sorted(self.items()))) + hash(self.to_move)\n",
        "\n",
        "    def __repr__(self):\n",
        "        def row(y): return ' '.join(self[x, y] for x in range(self.width))\n",
        "        return '\\n'.join(map(row, range(self.height))) +  '\\n'"
      ],
      "metadata": {
        "id": "cQZnQjR_BMiL"
      },
      "id": "cQZnQjR_BMiL",
      "execution_count": 7,
      "outputs": []
    },
    {
      "cell_type": "markdown",
      "source": [
        " 3. Implement random player(game,state) and player(search algorithm)"
      ],
      "metadata": {
        "id": "mTp64WbjEgG3"
      },
      "id": "mTp64WbjEgG3"
    },
    {
      "cell_type": "code",
      "source": [
        "def random_player(game, state): return random.choice(list(game.actions(state)))\n",
        "\n",
        "def player(search_algorithm):\n",
        "    return lambda game, state: search_algorithm(game, state)[1]"
      ],
      "metadata": {
        "id": "azX8d5LiEA9W"
      },
      "id": "azX8d5LiEA9W",
      "execution_count": 8,
      "outputs": []
    },
    {
      "cell_type": "markdown",
      "source": [
        "## Part 4 Evaluate the AI Game Strategy using TicTocToe\n",
        " 1. Implement GameStrategy using play game(TicTacToe(), dict(X=random player,\n",
        " O=player(alphabeta search)), verbose=True).utility\n",
        " 2. Implement Gamestrategy using play game(TicTacToe(), dict(X=player(alphabeta search),\n",
        " O=player(minimax search)), verbose=True).utility"
      ],
      "metadata": {
        "id": "pS_Yj7NbEn06"
      },
      "id": "pS_Yj7NbEn06"
    },
    {
      "cell_type": "code",
      "source": [
        "play_game(TicTacToe(), dict(X=random_player, O=player(alphabeta_search)), verbose=True).utility"
      ],
      "metadata": {
        "colab": {
          "base_uri": "https://localhost:8080/"
        },
        "id": "aE38iPjoExo7",
        "outputId": "a13ff439-4851-41ca-c791-c012cfb5353a"
      },
      "id": "aE38iPjoExo7",
      "execution_count": 9,
      "outputs": [
        {
          "output_type": "stream",
          "name": "stdout",
          "text": [
            "Player X move: (0, 2)\n",
            ". . .\n",
            ". . .\n",
            "X . .\n",
            "\n",
            "Player O move: (1, 1)\n",
            ". . .\n",
            ". O .\n",
            "X . .\n",
            "\n",
            "Player X move: (1, 0)\n",
            ". X .\n",
            ". O .\n",
            "X . .\n",
            "\n",
            "Player O move: (0, 1)\n",
            ". X .\n",
            "O O .\n",
            "X . .\n",
            "\n",
            "Player X move: (2, 1)\n",
            ". X .\n",
            "O O X\n",
            "X . .\n",
            "\n",
            "Player O move: (2, 2)\n",
            ". X .\n",
            "O O X\n",
            "X . O\n",
            "\n",
            "Player X move: (0, 0)\n",
            "X X .\n",
            "O O X\n",
            "X . O\n",
            "\n",
            "Player O move: (2, 0)\n",
            "X X O\n",
            "O O X\n",
            "X . O\n",
            "\n",
            "Player X move: (1, 2)\n",
            "X X O\n",
            "O O X\n",
            "X X O\n",
            "\n"
          ]
        },
        {
          "output_type": "execute_result",
          "data": {
            "text/plain": [
              "0"
            ]
          },
          "metadata": {},
          "execution_count": 9
        }
      ]
    },
    {
      "cell_type": "code",
      "source": [
        "play_game(TicTacToe(), dict(X=random_player, O=player(minimax_search)), verbose=True).utility"
      ],
      "metadata": {
        "colab": {
          "base_uri": "https://localhost:8080/"
        },
        "id": "85l7kzYpEyzP",
        "outputId": "9b3d2b05-2205-4b68-f4a0-d80996ad005f"
      },
      "id": "85l7kzYpEyzP",
      "execution_count": 10,
      "outputs": [
        {
          "output_type": "stream",
          "name": "stdout",
          "text": [
            "Player X move: (2, 0)\n",
            ". . X\n",
            ". . .\n",
            ". . .\n",
            "\n",
            "Player O move: (1, 1)\n",
            ". . X\n",
            ". O .\n",
            ". . .\n",
            "\n",
            "Player X move: (1, 2)\n",
            ". . X\n",
            ". O .\n",
            ". X .\n",
            "\n",
            "Player O move: (0, 1)\n",
            ". . X\n",
            "O O .\n",
            ". X .\n",
            "\n",
            "Player X move: (0, 2)\n",
            ". . X\n",
            "O O .\n",
            "X X .\n",
            "\n",
            "Player O move: (2, 2)\n",
            ". . X\n",
            "O O .\n",
            "X X O\n",
            "\n",
            "Player X move: (1, 0)\n",
            ". X X\n",
            "O O .\n",
            "X X O\n",
            "\n",
            "Player O move: (2, 1)\n",
            ". X X\n",
            "O O O\n",
            "X X O\n",
            "\n"
          ]
        },
        {
          "output_type": "execute_result",
          "data": {
            "text/plain": [
              "-1"
            ]
          },
          "metadata": {},
          "execution_count": 10
        }
      ]
    },
    {
      "cell_type": "code",
      "source": [
        "play_game(TicTacToe(), dict(X=player(alphabeta_search), O=random_player), verbose=True).utility"
      ],
      "metadata": {
        "colab": {
          "base_uri": "https://localhost:8080/"
        },
        "id": "Rn9CIEZPE1pf",
        "outputId": "5c47bf9d-5f52-4d9e-99b1-7cbfe258019f"
      },
      "id": "Rn9CIEZPE1pf",
      "execution_count": 11,
      "outputs": [
        {
          "output_type": "stream",
          "name": "stdout",
          "text": [
            "Player X move: (0, 1)\n",
            ". . .\n",
            "X . .\n",
            ". . .\n",
            "\n",
            "Player O move: (2, 0)\n",
            ". . O\n",
            "X . .\n",
            ". . .\n",
            "\n",
            "Player X move: (0, 0)\n",
            "X . O\n",
            "X . .\n",
            ". . .\n",
            "\n",
            "Player O move: (0, 2)\n",
            "X . O\n",
            "X . .\n",
            "O . .\n",
            "\n",
            "Player X move: (1, 1)\n",
            "X . O\n",
            "X X .\n",
            "O . .\n",
            "\n",
            "Player O move: (1, 0)\n",
            "X O O\n",
            "X X .\n",
            "O . .\n",
            "\n",
            "Player X move: (1, 2)\n",
            "X O O\n",
            "X X .\n",
            "O X .\n",
            "\n",
            "Player O move: (2, 1)\n",
            "X O O\n",
            "X X O\n",
            "O X .\n",
            "\n",
            "Player X move: (2, 2)\n",
            "X O O\n",
            "X X O\n",
            "O X X\n",
            "\n"
          ]
        },
        {
          "output_type": "execute_result",
          "data": {
            "text/plain": [
              "1"
            ]
          },
          "metadata": {},
          "execution_count": 11
        }
      ]
    },
    {
      "cell_type": "code",
      "source": [
        "play_game(TicTacToe(), dict(X=player(minimax_search), O=random_player), verbose=True).utility"
      ],
      "metadata": {
        "colab": {
          "base_uri": "https://localhost:8080/"
        },
        "id": "mRZdZgIrE5R1",
        "outputId": "aecec326-07c7-40cb-8781-7d55543be1c2"
      },
      "id": "mRZdZgIrE5R1",
      "execution_count": 12,
      "outputs": [
        {
          "output_type": "stream",
          "name": "stdout",
          "text": [
            "Player X move: (0, 1)\n",
            ". . .\n",
            "X . .\n",
            ". . .\n",
            "\n",
            "Player O move: (1, 0)\n",
            ". O .\n",
            "X . .\n",
            ". . .\n",
            "\n",
            "Player X move: (0, 0)\n",
            "X O .\n",
            "X . .\n",
            ". . .\n",
            "\n",
            "Player O move: (0, 2)\n",
            "X O .\n",
            "X . .\n",
            "O . .\n",
            "\n",
            "Player X move: (1, 1)\n",
            "X O .\n",
            "X X .\n",
            "O . .\n",
            "\n",
            "Player O move: (2, 0)\n",
            "X O O\n",
            "X X .\n",
            "O . .\n",
            "\n",
            "Player X move: (1, 2)\n",
            "X O O\n",
            "X X .\n",
            "O X .\n",
            "\n",
            "Player O move: (2, 2)\n",
            "X O O\n",
            "X X .\n",
            "O X O\n",
            "\n",
            "Player X move: (2, 1)\n",
            "X O O\n",
            "X X X\n",
            "O X O\n",
            "\n"
          ]
        },
        {
          "output_type": "execute_result",
          "data": {
            "text/plain": [
              "1"
            ]
          },
          "metadata": {},
          "execution_count": 12
        }
      ]
    },
    {
      "cell_type": "code",
      "source": [
        "play_game(TicTacToe(), dict(X=player(alphabeta_search), O=player(minimax_search)), verbose=True).utility"
      ],
      "metadata": {
        "colab": {
          "base_uri": "https://localhost:8080/"
        },
        "id": "p5ME_oKLE8OQ",
        "outputId": "a18d3c72-37e9-43c8-b063-b956c5543fdc"
      },
      "id": "p5ME_oKLE8OQ",
      "execution_count": 13,
      "outputs": [
        {
          "output_type": "stream",
          "name": "stdout",
          "text": [
            "Player X move: (0, 1)\n",
            ". . .\n",
            "X . .\n",
            ". . .\n",
            "\n",
            "Player O move: (2, 1)\n",
            ". . .\n",
            "X . O\n",
            ". . .\n",
            "\n",
            "Player X move: (1, 2)\n",
            ". . .\n",
            "X . O\n",
            ". X .\n",
            "\n",
            "Player O move: (0, 0)\n",
            "O . .\n",
            "X . O\n",
            ". X .\n",
            "\n",
            "Player X move: (1, 1)\n",
            "O . .\n",
            "X X O\n",
            ". X .\n",
            "\n",
            "Player O move: (1, 0)\n",
            "O O .\n",
            "X X O\n",
            ". X .\n",
            "\n",
            "Player X move: (2, 0)\n",
            "O O X\n",
            "X X O\n",
            ". X .\n",
            "\n",
            "Player O move: (0, 2)\n",
            "O O X\n",
            "X X O\n",
            "O X .\n",
            "\n",
            "Player X move: (2, 2)\n",
            "O O X\n",
            "X X O\n",
            "O X X\n",
            "\n"
          ]
        },
        {
          "output_type": "execute_result",
          "data": {
            "text/plain": [
              "0"
            ]
          },
          "metadata": {},
          "execution_count": 13
        }
      ]
    },
    {
      "cell_type": "code",
      "source": [
        "play_game(TicTacToe(), dict(X=player(minimax_search), O=player(alphabeta_search)), verbose=True).utility"
      ],
      "metadata": {
        "colab": {
          "base_uri": "https://localhost:8080/"
        },
        "id": "sgFr1k7ZFBgr",
        "outputId": "86df1dc2-aebd-4522-bd3f-b33fb250305e"
      },
      "id": "sgFr1k7ZFBgr",
      "execution_count": 14,
      "outputs": [
        {
          "output_type": "stream",
          "name": "stdout",
          "text": [
            "Player X move: (0, 1)\n",
            ". . .\n",
            "X . .\n",
            ". . .\n",
            "\n",
            "Player O move: (2, 1)\n",
            ". . .\n",
            "X . O\n",
            ". . .\n",
            "\n",
            "Player X move: (1, 2)\n",
            ". . .\n",
            "X . O\n",
            ". X .\n",
            "\n",
            "Player O move: (0, 0)\n",
            "O . .\n",
            "X . O\n",
            ". X .\n",
            "\n",
            "Player X move: (1, 1)\n",
            "O . .\n",
            "X X O\n",
            ". X .\n",
            "\n",
            "Player O move: (1, 0)\n",
            "O O .\n",
            "X X O\n",
            ". X .\n",
            "\n",
            "Player X move: (2, 0)\n",
            "O O X\n",
            "X X O\n",
            ". X .\n",
            "\n",
            "Player O move: (0, 2)\n",
            "O O X\n",
            "X X O\n",
            "O X .\n",
            "\n",
            "Player X move: (2, 2)\n",
            "O O X\n",
            "X X O\n",
            "O X X\n",
            "\n"
          ]
        },
        {
          "output_type": "execute_result",
          "data": {
            "text/plain": [
              "0"
            ]
          },
          "metadata": {},
          "execution_count": 14
        }
      ]
    },
    {
      "cell_type": "code",
      "source": [
        "play_game(TicTacToe(), dict(X=player(minimax_search), O=player(minimax_search)), verbose=True).utility"
      ],
      "metadata": {
        "colab": {
          "base_uri": "https://localhost:8080/"
        },
        "id": "TVNaYFGGFEc2",
        "outputId": "9d7d51cd-b997-44a9-accf-6486f7b34dcf"
      },
      "id": "TVNaYFGGFEc2",
      "execution_count": 15,
      "outputs": [
        {
          "output_type": "stream",
          "name": "stdout",
          "text": [
            "Player X move: (0, 1)\n",
            ". . .\n",
            "X . .\n",
            ". . .\n",
            "\n",
            "Player O move: (2, 1)\n",
            ". . .\n",
            "X . O\n",
            ". . .\n",
            "\n",
            "Player X move: (1, 2)\n",
            ". . .\n",
            "X . O\n",
            ". X .\n",
            "\n",
            "Player O move: (0, 0)\n",
            "O . .\n",
            "X . O\n",
            ". X .\n",
            "\n",
            "Player X move: (1, 1)\n",
            "O . .\n",
            "X X O\n",
            ". X .\n",
            "\n",
            "Player O move: (1, 0)\n",
            "O O .\n",
            "X X O\n",
            ". X .\n",
            "\n",
            "Player X move: (2, 0)\n",
            "O O X\n",
            "X X O\n",
            ". X .\n",
            "\n",
            "Player O move: (0, 2)\n",
            "O O X\n",
            "X X O\n",
            "O X .\n",
            "\n",
            "Player X move: (2, 2)\n",
            "O O X\n",
            "X X O\n",
            "O X X\n",
            "\n"
          ]
        },
        {
          "output_type": "execute_result",
          "data": {
            "text/plain": [
              "0"
            ]
          },
          "metadata": {},
          "execution_count": 15
        }
      ]
    },
    {
      "cell_type": "code",
      "source": [
        "play_game(TicTacToe(), dict(X=player(alphabeta_search), O=player(alphabeta_search)), verbose=True).utility"
      ],
      "metadata": {
        "colab": {
          "base_uri": "https://localhost:8080/"
        },
        "id": "9FvrXH6oFHlX",
        "outputId": "62cd5284-3606-4448-a97c-f522e41630a1"
      },
      "id": "9FvrXH6oFHlX",
      "execution_count": 16,
      "outputs": [
        {
          "output_type": "stream",
          "name": "stdout",
          "text": [
            "Player X move: (0, 1)\n",
            ". . .\n",
            "X . .\n",
            ". . .\n",
            "\n",
            "Player O move: (2, 1)\n",
            ". . .\n",
            "X . O\n",
            ". . .\n",
            "\n",
            "Player X move: (1, 2)\n",
            ". . .\n",
            "X . O\n",
            ". X .\n",
            "\n",
            "Player O move: (0, 0)\n",
            "O . .\n",
            "X . O\n",
            ". X .\n",
            "\n",
            "Player X move: (1, 1)\n",
            "O . .\n",
            "X X O\n",
            ". X .\n",
            "\n",
            "Player O move: (1, 0)\n",
            "O O .\n",
            "X X O\n",
            ". X .\n",
            "\n",
            "Player X move: (2, 0)\n",
            "O O X\n",
            "X X O\n",
            ". X .\n",
            "\n",
            "Player O move: (0, 2)\n",
            "O O X\n",
            "X X O\n",
            "O X .\n",
            "\n",
            "Player X move: (2, 2)\n",
            "O O X\n",
            "X X O\n",
            "O X X\n",
            "\n"
          ]
        },
        {
          "output_type": "execute_result",
          "data": {
            "text/plain": [
              "0"
            ]
          },
          "metadata": {},
          "execution_count": 16
        }
      ]
    },
    {
      "cell_type": "code",
      "source": [
        "play_game(TicTacToe(), dict(X=random_player, O=random_player), verbose=True).utility"
      ],
      "metadata": {
        "colab": {
          "base_uri": "https://localhost:8080/"
        },
        "id": "CkWrORMLFRfV",
        "outputId": "8eec578d-c07e-4f84-e23d-54a612a314c9"
      },
      "id": "CkWrORMLFRfV",
      "execution_count": 17,
      "outputs": [
        {
          "output_type": "stream",
          "name": "stdout",
          "text": [
            "Player X move: (0, 1)\n",
            ". . .\n",
            "X . .\n",
            ". . .\n",
            "\n",
            "Player O move: (1, 2)\n",
            ". . .\n",
            "X . .\n",
            ". O .\n",
            "\n",
            "Player X move: (0, 0)\n",
            "X . .\n",
            "X . .\n",
            ". O .\n",
            "\n",
            "Player O move: (2, 2)\n",
            "X . .\n",
            "X . .\n",
            ". O O\n",
            "\n",
            "Player X move: (1, 0)\n",
            "X X .\n",
            "X . .\n",
            ". O O\n",
            "\n",
            "Player O move: (0, 2)\n",
            "X X .\n",
            "X . .\n",
            "O O O\n",
            "\n"
          ]
        },
        {
          "output_type": "execute_result",
          "data": {
            "text/plain": [
              "-1"
            ]
          },
          "metadata": {},
          "execution_count": 17
        }
      ]
    }
  ],
  "metadata": {
    "kernelspec": {
      "display_name": "Python 3 (ipykernel)",
      "language": "python",
      "name": "python3"
    },
    "language_info": {
      "codemirror_mode": {
        "name": "ipython",
        "version": 3
      },
      "file_extension": ".py",
      "mimetype": "text/x-python",
      "name": "python",
      "nbconvert_exporter": "python",
      "pygments_lexer": "ipython3",
      "version": "3.9.15"
    },
    "colab": {
      "provenance": [],
      "include_colab_link": true
    }
  },
  "nbformat": 4,
  "nbformat_minor": 5
}